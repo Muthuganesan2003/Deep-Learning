{
 "cells": [
  {
   "cell_type": "markdown",
   "metadata": {
    "id": "3DR-eO17geWu"
   },
   "source": [
    "# Convolutional Neural Network"
   ]
  },
  {
   "cell_type": "markdown",
   "metadata": {
    "id": "EMefrVPCg-60"
   },
   "source": [
    "### Importing the libraries"
   ]
  },
  {
   "cell_type": "code",
   "execution_count": null,
   "metadata": {},
   "outputs": [],
   "source": [
    "pip install tensorflow"
   ]
  },
  {
   "cell_type": "code",
   "execution_count": 1,
   "metadata": {
    "id": "JqcQdQMPFVU8"
   },
   "outputs": [],
   "source": [
    "import tensorflow as tf\n",
    "from keras.preprocessing.image import ImageDataGenerator"
   ]
  },
  {
   "cell_type": "code",
   "execution_count": 2,
   "metadata": {
    "colab": {
     "base_uri": "https://localhost:8080/",
     "height": 36
    },
    "id": "7OpTrsNnFk0r",
    "outputId": "53b80a41-d8f6-49cb-862c-eb9b909accc0"
   },
   "outputs": [
    {
     "data": {
      "text/plain": [
       "'2.13.0'"
      ]
     },
     "execution_count": 2,
     "metadata": {},
     "output_type": "execute_result"
    }
   ],
   "source": [
    "tf.__version__"
   ]
  },
  {
   "cell_type": "markdown",
   "metadata": {
    "id": "oxQxCBWyoGPE"
   },
   "source": [
    "## Part 1 - Data Preprocessing"
   ]
  },
  {
   "cell_type": "markdown",
   "metadata": {
    "id": "MvE-heJNo3GG"
   },
   "source": [
    "### Preprocessing the Training set"
   ]
  },
  {
   "cell_type": "code",
   "execution_count": 8,
   "metadata": {
    "id": "LnRnlkvJFp1h"
   },
   "outputs": [
    {
     "name": "stdout",
     "output_type": "stream",
     "text": [
      "Found 557 images belonging to 2 classes.\n"
     ]
    }
   ],
   "source": [
    "train_datagen = ImageDataGenerator(rescale = 1./255,\n",
    "                                   shear_range = 0.2,\n",
    "                                   zoom_range = 0.2,\n",
    "                                   horizontal_flip = True)\n",
    "training_set = train_datagen.flow_from_directory('imageclassification/train',\n",
    "                                                 target_size = (64, 64),\n",
    "                                                 batch_size = 32,\n",
    "                                                 class_mode = 'binary')"
   ]
  },
  {
   "cell_type": "markdown",
   "metadata": {
    "id": "mrCMmGw9pHys"
   },
   "source": [
    "### Preprocessing the Test set"
   ]
  },
  {
   "cell_type": "code",
   "execution_count": 10,
   "metadata": {
    "id": "aMy9YUvWlJs2"
   },
   "outputs": [
    {
     "name": "stdout",
     "output_type": "stream",
     "text": [
      "Found 140 images belonging to 2 classes.\n"
     ]
    }
   ],
   "source": [
    "test_datagen = ImageDataGenerator(rescale = 1./255)\n",
    "test_set = test_datagen.flow_from_directory('imageclassification/test',\n",
    "                                            target_size = (64, 64),\n",
    "                                            batch_size = 32,\n",
    "                                            class_mode = 'binary')"
   ]
  },
  {
   "cell_type": "markdown",
   "metadata": {
    "id": "af8O4l90gk7B"
   },
   "source": [
    "## Part 2 - Building the CNN"
   ]
  },
  {
   "cell_type": "markdown",
   "metadata": {
    "id": "ces1gXY2lmoX"
   },
   "source": [
    "### Initialising the CNN"
   ]
  },
  {
   "cell_type": "code",
   "execution_count": 11,
   "metadata": {
    "id": "GUNF2OncoKTl"
   },
   "outputs": [],
   "source": [
    "cnn=tf.keras.models.Sequential()"
   ]
  },
  {
   "cell_type": "markdown",
   "metadata": {
    "id": "u5YJj_XMl5LF"
   },
   "source": [
    "### Step 1 - Convolution"
   ]
  },
  {
   "cell_type": "code",
   "execution_count": 12,
   "metadata": {
    "id": "C57PlKALoQb2"
   },
   "outputs": [],
   "source": [
    "cnn.add(tf.keras.layers.Conv2D(filters=32,kernel_size=3,activation='relu',input_shape=[64,64,3]))"
   ]
  },
  {
   "cell_type": "markdown",
   "metadata": {
    "id": "tf87FpvxmNOJ"
   },
   "source": [
    "### Step 2 - Pooling"
   ]
  },
  {
   "cell_type": "code",
   "execution_count": 13,
   "metadata": {
    "id": "gECh4WEToxSf"
   },
   "outputs": [],
   "source": [
    "cnn.add(tf.keras.layers.MaxPool2D(pool_size=2,strides=2))"
   ]
  },
  {
   "cell_type": "markdown",
   "metadata": {
    "id": "xaTOgD8rm4mU"
   },
   "source": [
    "### Adding a second convolutional layer"
   ]
  },
  {
   "cell_type": "code",
   "execution_count": 14,
   "metadata": {
    "id": "xRsmxZIzo_5F"
   },
   "outputs": [],
   "source": [
    "cnn.add(tf.keras.layers.Conv2D(filters=32,kernel_size=3,activation='relu'))\n",
    "cnn.add(tf.keras.layers.MaxPool2D(pool_size=2,strides=2))"
   ]
  },
  {
   "cell_type": "markdown",
   "metadata": {
    "id": "tmiEuvTunKfk"
   },
   "source": [
    "### Step 3 - Flattening"
   ]
  },
  {
   "cell_type": "code",
   "execution_count": 15,
   "metadata": {
    "id": "q5zrHrc5pGTb"
   },
   "outputs": [],
   "source": [
    "cnn.add(tf.keras.layers.Flatten())"
   ]
  },
  {
   "cell_type": "markdown",
   "metadata": {
    "id": "dAoSECOm203v"
   },
   "source": [
    "### Step 4 - Full Connection"
   ]
  },
  {
   "cell_type": "code",
   "execution_count": 16,
   "metadata": {
    "id": "N8J1UadPpMPv"
   },
   "outputs": [],
   "source": [
    "cnn.add(tf.keras.layers.Dense(units=128,activation='relu'))"
   ]
  },
  {
   "cell_type": "markdown",
   "metadata": {
    "id": "yTldFvbX28Na"
   },
   "source": [
    "### Step 5 - Output Layer"
   ]
  },
  {
   "cell_type": "code",
   "execution_count": 24,
   "metadata": {
    "id": "IKaVEEuEpnce"
   },
   "outputs": [],
   "source": [
    "cnn.add(tf.keras.layers.Dense(units=1,activation='sigmoid'))"
   ]
  },
  {
   "cell_type": "markdown",
   "metadata": {
    "id": "D6XkI90snSDl"
   },
   "source": [
    "## Part 3 - Training the CNN"
   ]
  },
  {
   "cell_type": "markdown",
   "metadata": {
    "id": "vfrFQACEnc6i"
   },
   "source": [
    "### Compiling the CNN"
   ]
  },
  {
   "cell_type": "code",
   "execution_count": 25,
   "metadata": {
    "id": "YtqIdaOsskOK"
   },
   "outputs": [],
   "source": [
    "cnn.compile(optimizer='adam',loss='binary_crossentropy',metrics=['accuracy'])"
   ]
  },
  {
   "cell_type": "markdown",
   "metadata": {
    "id": "ehS-v3MIpX2h"
   },
   "source": [
    "### Training the CNN on the Training set and evaluating it on the Test set"
   ]
  },
  {
   "cell_type": "code",
   "execution_count": 48,
   "metadata": {
    "id": "lEWLkzQEtTYl"
   },
   "outputs": [
    {
     "name": "stdout",
     "output_type": "stream",
     "text": [
      "Epoch 1/49\n",
      "18/18 [==============================] - 9s 518ms/step - loss: 0.2898 - accuracy: 0.9048 - val_loss: 0.6883 - val_accuracy: 0.7214\n",
      "Epoch 2/49\n",
      "18/18 [==============================] - 9s 478ms/step - loss: 0.3235 - accuracy: 0.8743 - val_loss: 0.6990 - val_accuracy: 0.6929\n",
      "Epoch 3/49\n",
      "18/18 [==============================] - 9s 502ms/step - loss: 0.3229 - accuracy: 0.8743 - val_loss: 0.6927 - val_accuracy: 0.7071\n",
      "Epoch 4/49\n",
      "18/18 [==============================] - 8s 455ms/step - loss: 0.2807 - accuracy: 0.9013 - val_loss: 0.7018 - val_accuracy: 0.7000\n",
      "Epoch 5/49\n",
      "18/18 [==============================] - 8s 473ms/step - loss: 0.2955 - accuracy: 0.9013 - val_loss: 0.7065 - val_accuracy: 0.6929\n",
      "Epoch 6/49\n",
      "18/18 [==============================] - 8s 452ms/step - loss: 0.2929 - accuracy: 0.8869 - val_loss: 0.7515 - val_accuracy: 0.6714\n",
      "Epoch 7/49\n",
      "18/18 [==============================] - 9s 476ms/step - loss: 0.2876 - accuracy: 0.8959 - val_loss: 0.7125 - val_accuracy: 0.7071\n",
      "Epoch 8/49\n",
      "18/18 [==============================] - 8s 457ms/step - loss: 0.2592 - accuracy: 0.9210 - val_loss: 0.6844 - val_accuracy: 0.7071\n",
      "Epoch 9/49\n",
      "18/18 [==============================] - 9s 482ms/step - loss: 0.2671 - accuracy: 0.9120 - val_loss: 0.7175 - val_accuracy: 0.6857\n",
      "Epoch 10/49\n",
      "18/18 [==============================] - 8s 459ms/step - loss: 0.2765 - accuracy: 0.9013 - val_loss: 0.6704 - val_accuracy: 0.7000\n",
      "Epoch 11/49\n",
      "18/18 [==============================] - 9s 485ms/step - loss: 0.3076 - accuracy: 0.8815 - val_loss: 0.7212 - val_accuracy: 0.6786\n",
      "Epoch 12/49\n",
      "18/18 [==============================] - 8s 460ms/step - loss: 0.2785 - accuracy: 0.9066 - val_loss: 0.6978 - val_accuracy: 0.6857\n",
      "Epoch 13/49\n",
      "18/18 [==============================] - 9s 477ms/step - loss: 0.2390 - accuracy: 0.9228 - val_loss: 0.6847 - val_accuracy: 0.7214\n",
      "Epoch 14/49\n",
      "18/18 [==============================] - 8s 464ms/step - loss: 0.2468 - accuracy: 0.9246 - val_loss: 0.7417 - val_accuracy: 0.7071\n",
      "Epoch 15/49\n",
      "18/18 [==============================] - 9s 482ms/step - loss: 0.2844 - accuracy: 0.8977 - val_loss: 0.7037 - val_accuracy: 0.7000\n",
      "Epoch 16/49\n",
      "18/18 [==============================] - 8s 465ms/step - loss: 0.2581 - accuracy: 0.9120 - val_loss: 0.7376 - val_accuracy: 0.7000\n",
      "Epoch 17/49\n",
      "18/18 [==============================] - 8s 473ms/step - loss: 0.2485 - accuracy: 0.9228 - val_loss: 0.6807 - val_accuracy: 0.7357\n",
      "Epoch 18/49\n",
      "18/18 [==============================] - 8s 468ms/step - loss: 0.2613 - accuracy: 0.9174 - val_loss: 0.6774 - val_accuracy: 0.7214\n",
      "Epoch 19/49\n",
      "18/18 [==============================] - 8s 445ms/step - loss: 0.2756 - accuracy: 0.9013 - val_loss: 0.7488 - val_accuracy: 0.7000\n",
      "Epoch 20/49\n",
      "18/18 [==============================] - 9s 480ms/step - loss: 0.2783 - accuracy: 0.8977 - val_loss: 0.8404 - val_accuracy: 0.6786\n",
      "Epoch 21/49\n",
      "18/18 [==============================] - 9s 473ms/step - loss: 0.3010 - accuracy: 0.8941 - val_loss: 0.9333 - val_accuracy: 0.6357\n",
      "Epoch 22/49\n",
      "18/18 [==============================] - 9s 478ms/step - loss: 0.2849 - accuracy: 0.8977 - val_loss: 0.7811 - val_accuracy: 0.6786\n",
      "Epoch 23/49\n",
      "18/18 [==============================] - 9s 497ms/step - loss: 0.2409 - accuracy: 0.9210 - val_loss: 0.7322 - val_accuracy: 0.6929\n",
      "Epoch 24/49\n",
      "18/18 [==============================] - 10s 535ms/step - loss: 0.2254 - accuracy: 0.9264 - val_loss: 0.7102 - val_accuracy: 0.7214\n",
      "Epoch 25/49\n",
      "18/18 [==============================] - 9s 472ms/step - loss: 0.2486 - accuracy: 0.9120 - val_loss: 0.7218 - val_accuracy: 0.7000\n",
      "Epoch 26/49\n",
      "18/18 [==============================] - 9s 489ms/step - loss: 0.2321 - accuracy: 0.9246 - val_loss: 0.6967 - val_accuracy: 0.7214\n",
      "Epoch 27/49\n",
      "18/18 [==============================] - 9s 483ms/step - loss: 0.2297 - accuracy: 0.9246 - val_loss: 0.7496 - val_accuracy: 0.6786\n",
      "Epoch 28/49\n",
      "18/18 [==============================] - 9s 514ms/step - loss: 0.2158 - accuracy: 0.9390 - val_loss: 0.7095 - val_accuracy: 0.7143\n",
      "Epoch 29/49\n",
      "18/18 [==============================] - 9s 492ms/step - loss: 0.2334 - accuracy: 0.9156 - val_loss: 0.7217 - val_accuracy: 0.7214\n",
      "Epoch 30/49\n",
      "18/18 [==============================] - 9s 483ms/step - loss: 0.1973 - accuracy: 0.9354 - val_loss: 0.7215 - val_accuracy: 0.7000\n",
      "Epoch 31/49\n",
      "18/18 [==============================] - 12s 646ms/step - loss: 0.2353 - accuracy: 0.9246 - val_loss: 0.7419 - val_accuracy: 0.7071\n",
      "Epoch 32/49\n",
      "18/18 [==============================] - 12s 658ms/step - loss: 0.2615 - accuracy: 0.9048 - val_loss: 0.8111 - val_accuracy: 0.6857\n",
      "Epoch 33/49\n",
      "18/18 [==============================] - 12s 643ms/step - loss: 0.2633 - accuracy: 0.9138 - val_loss: 0.8045 - val_accuracy: 0.6643\n",
      "Epoch 34/49\n",
      "18/18 [==============================] - 11s 608ms/step - loss: 0.2185 - accuracy: 0.9300 - val_loss: 0.7975 - val_accuracy: 0.6857\n",
      "Epoch 35/49\n",
      "18/18 [==============================] - 10s 605ms/step - loss: 0.2274 - accuracy: 0.9246 - val_loss: 0.7447 - val_accuracy: 0.7143\n",
      "Epoch 36/49\n",
      "18/18 [==============================] - 11s 620ms/step - loss: 0.2211 - accuracy: 0.9282 - val_loss: 0.7894 - val_accuracy: 0.6857\n",
      "Epoch 37/49\n",
      "18/18 [==============================] - 10s 566ms/step - loss: 0.2158 - accuracy: 0.9210 - val_loss: 0.7559 - val_accuracy: 0.6929\n",
      "Epoch 38/49\n",
      "18/18 [==============================] - 9s 518ms/step - loss: 0.2030 - accuracy: 0.9336 - val_loss: 0.7816 - val_accuracy: 0.6714\n",
      "Epoch 39/49\n",
      "18/18 [==============================] - 8s 472ms/step - loss: 0.2178 - accuracy: 0.9282 - val_loss: 0.7560 - val_accuracy: 0.6857\n",
      "Epoch 40/49\n",
      "18/18 [==============================] - 9s 485ms/step - loss: 0.1923 - accuracy: 0.9425 - val_loss: 0.7535 - val_accuracy: 0.6929\n",
      "Epoch 41/49\n",
      "18/18 [==============================] - 9s 511ms/step - loss: 0.2106 - accuracy: 0.9282 - val_loss: 0.6777 - val_accuracy: 0.7429\n",
      "Epoch 42/49\n",
      "18/18 [==============================] - 9s 517ms/step - loss: 0.1987 - accuracy: 0.9390 - val_loss: 0.7493 - val_accuracy: 0.6929\n",
      "Epoch 43/49\n",
      "18/18 [==============================] - 9s 496ms/step - loss: 0.2086 - accuracy: 0.9318 - val_loss: 0.7881 - val_accuracy: 0.7000\n",
      "Epoch 44/49\n",
      "18/18 [==============================] - 9s 481ms/step - loss: 0.2089 - accuracy: 0.9264 - val_loss: 0.7359 - val_accuracy: 0.7357\n",
      "Epoch 45/49\n",
      "18/18 [==============================] - 9s 483ms/step - loss: 0.1926 - accuracy: 0.9390 - val_loss: 0.7444 - val_accuracy: 0.7071\n",
      "Epoch 46/49\n",
      "18/18 [==============================] - 9s 480ms/step - loss: 0.2320 - accuracy: 0.9174 - val_loss: 0.7704 - val_accuracy: 0.7143\n",
      "Epoch 47/49\n",
      "18/18 [==============================] - 9s 476ms/step - loss: 0.2149 - accuracy: 0.9318 - val_loss: 0.7261 - val_accuracy: 0.7286\n",
      "Epoch 48/49\n",
      "18/18 [==============================] - 8s 462ms/step - loss: 0.1964 - accuracy: 0.9354 - val_loss: 0.7382 - val_accuracy: 0.7071\n",
      "Epoch 49/49\n",
      "18/18 [==============================] - 9s 496ms/step - loss: 0.1856 - accuracy: 0.9390 - val_loss: 0.7993 - val_accuracy: 0.7143\n"
     ]
    },
    {
     "data": {
      "text/plain": [
       "<keras.src.callbacks.History at 0x1ca60b3c9a0>"
      ]
     },
     "execution_count": 48,
     "metadata": {},
     "output_type": "execute_result"
    }
   ],
   "source": [
    "cnn.fit(x=training_set,validation_data=test_set,epochs=49)\n"
   ]
  },
  {
   "cell_type": "markdown",
   "metadata": {
    "id": "U3PZasO0006Z"
   },
   "source": [
    "## Part 4 - Making a single prediction"
   ]
  },
  {
   "cell_type": "code",
   "execution_count": 68,
   "metadata": {
    "id": "MiYZtUi6dCgz"
   },
   "outputs": [
    {
     "name": "stdout",
     "output_type": "stream",
     "text": [
      "1/1 [==============================] - 0s 21ms/step\n",
      "0.9300522\n"
     ]
    }
   ],
   "source": [
    "import numpy as np\n",
    "from keras.preprocessing import image\n",
    "test_image=image.load_img('imageclassification/single_prediction/dog_360.jpg',target_size=(64,64))\n",
    "test_image=image.img_to_array(test_image)\n",
    "test_image=np.expand_dims(test_image,axis=0)\n",
    "result=cnn.predict(test_image)\n",
    "class_indices = training_set.class_indices\n",
    "print(result[0][0])\n",
    "if result[0][0]==1:\n",
    "  prediction='Dog'\n",
    "else:\n",
    "  prediction='Cat'"
   ]
  },
  {
   "cell_type": "code",
   "execution_count": 67,
   "metadata": {
    "id": "LgsuD15ZtSe1"
   },
   "outputs": [
    {
     "name": "stdout",
     "output_type": "stream",
     "text": [
      "Cat\n"
     ]
    }
   ],
   "source": [
    "print(prediction)"
   ]
  },
  {
   "cell_type": "code",
   "execution_count": null,
   "metadata": {},
   "outputs": [],
   "source": []
  },
  {
   "cell_type": "code",
   "execution_count": null,
   "metadata": {},
   "outputs": [],
   "source": []
  },
  {
   "cell_type": "code",
   "execution_count": null,
   "metadata": {},
   "outputs": [],
   "source": []
  }
 ],
 "metadata": {
  "colab": {
   "provenance": [],
   "toc_visible": true
  },
  "kernelspec": {
   "display_name": "Python 3 (ipykernel)",
   "language": "python",
   "name": "python3"
  },
  "language_info": {
   "codemirror_mode": {
    "name": "ipython",
    "version": 3
   },
   "file_extension": ".py",
   "mimetype": "text/x-python",
   "name": "python",
   "nbconvert_exporter": "python",
   "pygments_lexer": "ipython3",
   "version": "3.9.13"
  }
 },
 "nbformat": 4,
 "nbformat_minor": 1
}
